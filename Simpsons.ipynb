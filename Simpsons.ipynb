{
  "nbformat": 4,
  "nbformat_minor": 0,
  "metadata": {
    "colab": {
      "provenance": [],
      "collapsed_sections": [],
      "authorship_tag": "ABX9TyP0SxjvJFj6soBJA6zZeh5s",
      "include_colab_link": true
    },
    "kernelspec": {
      "name": "python3",
      "display_name": "Python 3"
    },
    "language_info": {
      "name": "python"
    }
  },
  "cells": [
    {
      "cell_type": "markdown",
      "metadata": {
        "id": "view-in-github",
        "colab_type": "text"
      },
      "source": [
        "<a href=\"https://colab.research.google.com/github/fernandezdario/Entregable-1/blob/main/Simpsons.ipynb\" target=\"_parent\"><img src=\"https://colab.research.google.com/assets/colab-badge.svg\" alt=\"Open In Colab\"/></a>"
      ]
    },
    {
      "cell_type": "markdown",
      "source": [
        "Estrucutura Entregable 1\n",
        "\n",
        "1: Conseguir los datos de la API cada 30 segundos"
      ],
      "metadata": {
        "id": "PtMvkmUnlpzT"
      }
    },
    {
      "cell_type": "code",
      "source": [
        "import requests\n",
        "import json\n",
        "import time \n",
        "\n",
        "lista_general = []\n",
        "lista_lisa = []\n",
        "lista_homer = []\n",
        "while True :\n",
        "    url = \"https://thesimpsonsquoteapi.glitch.me/quotes\"\n",
        "    data = requests.get(url)\n",
        "    quotes = data.json()\n",
        "    print(quotes)\n",
        "    \n",
        "    personaje:str = quotes[0]['character']\n",
        "    if personaje == 'Homer Simpson':\n",
        "        lista_homer.append(quotes)\n",
        "        lista_general.append(quotes)\n",
        "    elif personaje == 'Lisa Simpson':\n",
        "        lista_general.append(quotes)\n",
        "        lista_lisa.append(quotes)\n",
        "\n",
        "    time.sleep(5)\n",
        "\n"
      ],
      "metadata": {
        "colab": {
          "base_uri": "https://localhost:8080/",
          "height": 325
        },
        "id": "fqDHmWoFkbyM",
        "outputId": "20277f03-63fd-4b4e-defb-08466d4fb2e8"
      },
      "execution_count": 16,
      "outputs": [
        {
          "output_type": "stream",
          "name": "stdout",
          "text": [
            "[{'quote': \"I'm sleeping in the bath tub.\", 'character': 'Marge Simpson', 'image': 'https://cdn.glitch.com/3c3ffadc-3406-4440-bb95-d40ec8fcde72%2FMargeSimpson.png?1497567512205', 'characterDirection': 'Right'}]\n",
            "[{'quote': \"I used to be with it. But then they changed what it was. Now what I'm with isn't it, and what's it seems scary and wierd. It'll happen to you.\", 'character': 'Abe Simpson', 'image': 'https://cdn.glitch.com/3c3ffadc-3406-4440-bb95-d40ec8fcde72%2FAbrahamSimpson.png?1497567511593', 'characterDirection': 'Right'}]\n",
            "[{'quote': 'For once maybe someone will call me \"sir\" without adding, \"You\\'re making a scene.\"', 'character': 'Homer Simpson', 'image': 'https://cdn.glitch.com/3c3ffadc-3406-4440-bb95-d40ec8fcde72%2FHomerSimpson.png?1497567511939', 'characterDirection': 'Right'}]\n",
            "[{'quote': 'Ahh! Sweet liquor eases the pain.', 'character': 'Troy McClure', 'image': 'https://cdn.glitch.com/3c3ffadc-3406-4440-bb95-d40ec8fcde72%2FTroyMcClure.png?1497567511112', 'characterDirection': 'Right'}]\n",
            "[{'quote': \"I hope I didn't brain my damage.\", 'character': 'Homer Simpson', 'image': 'https://cdn.glitch.com/3c3ffadc-3406-4440-bb95-d40ec8fcde72%2FHomerSimpson.png?1497567511939', 'characterDirection': 'Right'}]\n"
          ]
        },
        {
          "output_type": "error",
          "ename": "KeyboardInterrupt",
          "evalue": "ignored",
          "traceback": [
            "\u001b[0;31m---------------------------------------------------------------------------\u001b[0m",
            "\u001b[0;31mKeyboardInterrupt\u001b[0m                         Traceback (most recent call last)",
            "\u001b[0;32m<ipython-input-16-208641e79016>\u001b[0m in \u001b[0;36m<module>\u001b[0;34m\u001b[0m\n\u001b[1;32m     20\u001b[0m         \u001b[0mlista_lisa\u001b[0m\u001b[0;34m.\u001b[0m\u001b[0mappend\u001b[0m\u001b[0;34m(\u001b[0m\u001b[0mquotes\u001b[0m\u001b[0;34m)\u001b[0m\u001b[0;34m\u001b[0m\u001b[0;34m\u001b[0m\u001b[0m\n\u001b[1;32m     21\u001b[0m \u001b[0;34m\u001b[0m\u001b[0m\n\u001b[0;32m---> 22\u001b[0;31m     \u001b[0mtime\u001b[0m\u001b[0;34m.\u001b[0m\u001b[0msleep\u001b[0m\u001b[0;34m(\u001b[0m\u001b[0;36m5\u001b[0m\u001b[0;34m)\u001b[0m\u001b[0;34m\u001b[0m\u001b[0;34m\u001b[0m\u001b[0m\n\u001b[0m\u001b[1;32m     23\u001b[0m \u001b[0;34m\u001b[0m\u001b[0m\n",
            "\u001b[0;31mKeyboardInterrupt\u001b[0m: "
          ]
        }
      ]
    },
    {
      "cell_type": "code",
      "source": [],
      "metadata": {
        "id": "xk8RNToQqQ0m"
      },
      "execution_count": null,
      "outputs": []
    }
  ]
}